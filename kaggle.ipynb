{
 "cells": [
  {
   "cell_type": "markdown",
   "metadata": {},
   "source": [
    "### 方法:\n",
    "1.正则化；\n",
    "2.集成模型；\n",
    "3.寻找最优超参数:XBGrid - 也可以用以下的方法\n",
    "4.寻找最优参数： 粒子度算法/遗传算法 - 启发式优化算法\n",
    "5.进行评估 - 可视化训练过程\n",
    "\n",
    "\n",
    "\n",
    "\n",
    "文件处理 - 标准化 - 集成模型进行分析/ 正则化处理 - 交叉验证超参数 / 超参数优化 -评估"
   ]
  },
  {
   "cell_type": "markdown",
   "metadata": {},
   "source": [
    "### Import Package"
   ]
  },
  {
   "cell_type": "code",
   "execution_count": 9,
   "metadata": {},
   "outputs": [],
   "source": [
    "\n",
    "import pandas as pd\n",
    "import numpy as np\n",
    "\n",
    "from sklearn.linear_model import ElasticNet\n",
    "from sklearn.linear_model import LogisticRegression\n",
    "from sklearn.linear_model import BayesianRidge\n",
    "from sklearn.linear_model import Ridge\n",
    "import xgboost as xgb\n",
    "\n",
    "from sklearn.feature_selection import RFECV\n",
    "from sklearn.preprocessing import RobustScaler\n",
    "from sklearn.model_selection import StratifiedShuffleSplit, GridSearchCV\n",
    "from sklearn.metrics import roc_auc_score, r2_score, make_scorer\n",
    "\n",
    "import matplotlib.pyplot as plt\n",
    "from sklearn.metrics import roc_curve, auc,confusion_matrix\n",
    "import seaborn as sns"
   ]
  },
  {
   "cell_type": "markdown",
   "metadata": {},
   "source": [
    "### Read the file Date"
   ]
  },
  {
   "cell_type": "code",
   "execution_count": 2,
   "metadata": {},
   "outputs": [],
   "source": [
    "train = pd.read_csv('train.csv')\n",
    "test = pd.read_csv('test.csv')\n",
    "\n",
    "X_train = train.drop(['id','target'],axis=1).values\n",
    "Y_train = train['target']\n",
    "test = test.drop(['id'], axis=1).values"
   ]
  },
  {
   "cell_type": "markdown",
   "metadata": {},
   "source": [
    "### Pre-Process the Data"
   ]
  },
  {
   "cell_type": "code",
   "execution_count": 3,
   "metadata": {},
   "outputs": [],
   "source": [
    "#Full feature scaling processing to increase the robustness of the original data\n",
    "\n",
    "Total_Data = np.concatenate((X_train , test), axis=0)\n",
    "Scaled_Data = RobustScaler().fit_transform(Total_Data)\n",
    "X_train = Scaled_Data[:250]\n",
    "test = Scaled_Data[250:]\n",
    "\n",
    "r2_threshold = 0.16\n",
    "random_seed = 563\n",
    "noise = 0.01\n",
    "np.random.seed(random_seed)\n",
    "\n",
    "# add a bit of noise to train_X to reduce overfitting\n",
    "X_train += np.random.normal(0, noise, X_train.shape)"
   ]
  },
  {
   "cell_type": "markdown",
   "metadata": {},
   "source": [
    "### Model Part"
   ]
  },
  {
   "cell_type": "code",
   "execution_count": 4,
   "metadata": {},
   "outputs": [],
   "source": [
    "## Model building\n",
    "#Elastic Network\n",
    "model = ElasticNet(alpha=0.031, tol=0.01,l1_ratio = 0.7, random_state=random_seed, selection='random')\n",
    "\n",
    "#LogisticRegression\n",
    "#model = LogisticRegression(random_state=42)\n",
    "\n",
    "#BayesianRidge\n",
    "#model = BayesianRidge()\n",
    "\n",
    "#Ridge\n",
    "#model = Ridge()\n",
    "\n",
    "#XGB - Boosting\n",
    "#model= xgb.XGBRegressor(objective='reg:squarederror', n_estimators=100, learning_rate=0.1, max_depth=3)\n",
    "\n",
    "\n",
    "\n",
    "## Parament Searching\n",
    "#Elastic Network\n",
    "\n",
    "param_grid = {\n",
    "    'alpha' : [0.019, 0.022, 0.021, 0.02, 0.023, 0.024, 0.025, 0.026],\n",
    "    'tol'   : [0.0012, 0.0013, 0.0014, 0.001, 0.0015, 0.0016],\n",
    "    'l1_ratio': [0.8,1],\n",
    "}\n",
    "\n",
    "'''\n",
    "#LogisticRegression\n",
    "param_grid = {'class_weight' : ['balanced', None], \n",
    "              'penalty' : ['l2','l1'], \n",
    "              'C' : [0.001, 0.01, 0.1, 1, 10, 100],\n",
    "              'solver': ['saga']}\n",
    "\n",
    "\n",
    "#BayesianRidge\n",
    "param_grid = {\n",
    "    'n_iter': [300, 500],\n",
    "    'alpha_1': [1e-6],\n",
    "    'alpha_2': [1e-6],\n",
    "    'lambda_1': [1e-6,],\n",
    "    'lambda_2': [1e-6, 1e-5, 1e-4]\n",
    "}\n",
    "\n",
    "#Ridge\n",
    "param_grid = {'alpha': [0.01, 0.1, 1.0, 10.0]}\n",
    "\n",
    "#XGB - Boosting\n",
    "param_grid = {\n",
    "    'n_estimators': [1000],\n",
    "    'learning_rate': [0.005],\n",
    "    'max_depth': [2],\n",
    "    'min_child_weight': [10],\n",
    "    'subsample': [0.8],\n",
    "    'colsample_bytree': [0.8],\n",
    "}\n",
    "'''\n",
    "\n",
    "#define the Scoler if there is one data then set it to 0.5\n",
    "def scoring_roc_auc(y, y_pred):\n",
    "    try:\n",
    "        return roc_auc_score(y, y_pred)\n",
    "    except:\n",
    "        return 0.5\n",
    "\n",
    "\n",
    "robust_roc_auc = make_scorer(scoring_roc_auc)\n",
    "\n",
    "# define recursive elimination feature selector\n",
    "feature_selector = RFECV(model, min_features_to_select=12, scoring=robust_roc_auc, step=10, verbose=0, cv=30, n_jobs=-1)\n",
    "\n",
    "predictions = pd.DataFrame()\n",
    "counter = 0\n"
   ]
  },
  {
   "cell_type": "code",
   "execution_count": 12,
   "metadata": {},
   "outputs": [
    {
     "name": "stdout",
     "output_type": "stream",
     "text": [
      "miss\n",
      "best parament : {'alpha': 0.024, 'l1_ratio': 1, 'tol': 0.0012}\n",
      "r2_in_val:  0.10263954809329146\n",
      "miss\n",
      "best parament : {'alpha': 0.019, 'l1_ratio': 0.8, 'tol': 0.0012}\n",
      "r2_in_val:  0.11650713305570615\n",
      "miss\n",
      "best parament : {'alpha': 0.019, 'l1_ratio': 0.8, 'tol': 0.0012}\n",
      "r2_in_val:  0.12355178276666201\n",
      "miss\n",
      "best parament : {'alpha': 0.019, 'l1_ratio': 0.8, 'tol': 0.0012}\n",
      "r2_in_val:  0.08108154081503127\n",
      "miss\n",
      "best parament : {'alpha': 0.019, 'l1_ratio': 0.8, 'tol': 0.0012}\n",
      "r2_in_val:  0.06338732436306016\n",
      "miss\n",
      "best parament : {'alpha': 0.019, 'l1_ratio': 0.8, 'tol': 0.0012}\n",
      "r2_in_val:  -0.0554298430306277\n",
      "miss\n",
      "best parament : {'alpha': 0.019, 'l1_ratio': 0.8, 'tol': 0.0012}\n",
      "r2_in_val:  0.09171912063919219\n",
      "ok\n"
     ]
    },
    {
     "data": {
      "image/png": "[encoded data removed]",
      "text/plain": [
       "<Figure size 800x600 with 1 Axes>"
      ]
     },
     "metadata": {},
     "output_type": "display_data"
    },
    {
     "name": "stdout",
     "output_type": "stream",
     "text": [
      "best parament : {'alpha': 0.019, 'l1_ratio': 0.8, 'tol': 0.0012}\n",
      "r2_in_val:  0.17886018364446954\n",
      "miss\n",
      "best parament : {'alpha': 0.019, 'l1_ratio': 0.8, 'tol': 0.0012}\n",
      "r2_in_val:  0.15750400897679961\n",
      "miss\n",
      "best parament : {'alpha': 0.019, 'l1_ratio': 0.8, 'tol': 0.0012}\n",
      "r2_in_val:  -0.004736823064278806\n",
      "ok\n"
     ]
    },
    {
     "data": {
      "image/png": "[encoded data removed]",
      "text/plain": [
       "<Figure size 800x600 with 1 Axes>"
      ]
     },
     "metadata": {},
     "output_type": "display_data"
    },
    {
     "name": "stdout",
     "output_type": "stream",
     "text": [
      "best parament : {'alpha': 0.019, 'l1_ratio': 0.8, 'tol': 0.0012}\n",
      "r2_in_val:  0.23947223182424626\n",
      "ok\n"
     ]
    },
    {
     "data": {
      "image/png": "[encoded data removed]",
      "text/plain": [
       "<Figure size 800x600 with 1 Axes>"
      ]
     },
     "metadata": {},
     "output_type": "display_data"
    },
    {
     "name": "stdout",
     "output_type": "stream",
     "text": [
      "best parament : {'alpha': 0.019, 'l1_ratio': 0.8, 'tol': 0.0012}\n",
      "r2_in_val:  0.2953544264995739\n"
     ]
    }
   ],
   "source": [
    "\n",
    "for train_id, val_id in StratifiedShuffleSplit(n_splits=12, test_size=0.35, random_state=random_seed).split(X_train,Y_train):\n",
    "    '''\n",
    "    we splite the train data into (train + validation)datatset , and loop to find the best model \n",
    "    val: validation\n",
    "    '''\n",
    "    X_in_trian = X_train[train_id]\n",
    "    Y_in_train = Y_train[train_id]\n",
    "\n",
    "    X_in_val = X_train[val_id]\n",
    "    Y_in_val = Y_train[val_id]\n",
    "\n",
    "    #get best features \n",
    "    feature_selector.fit(X_in_trian,Y_in_train)\n",
    "    #delete the low importance features\n",
    "    X_featured_train = feature_selector.transform(X_in_trian)\n",
    "    X_featured_val = feature_selector.transform(X_in_val)\n",
    "\n",
    "    test_featured = feature_selector.transform(test)\n",
    "\n",
    "    #grid search to find the best model\n",
    "    grid_search =GridSearchCV(feature_selector.estimator_, param_grid=param_grid,verbose=0, n_jobs=1,scoring=robust_roc_auc,cv= 30)\n",
    "    grid_search.fit(X_featured_train,Y_in_train)\n",
    "\n",
    "    #get the prediction in validation set\n",
    "    Y_in_val_pred = grid_search.best_estimator_.predict(X_featured_val)\n",
    "\n",
    "    #give the scoring:\n",
    "    #val_roc = roc_auc_score(Y_in_val, Y_in_val_pred)\n",
    "    r2_in_val = r2_score(Y_in_val,Y_in_val_pred)\n",
    "\n",
    "    if r2_in_val > r2_threshold:\n",
    "        predicton = grid_search.best_estimator_.predict(test_featured)\n",
    "        predictions =pd.concat([predictions,pd.DataFrame(predicton)],axis=1)\n",
    "        print(\"ok\")\n",
    "\n",
    "\n",
    "    \n",
    "        \n",
    "    else:\n",
    "        print(\"miss\")\n",
    " \n",
    "\n",
    "    print(f\"best parament : {grid_search.best_params_}\" )\n",
    "    print(\"r2_in_val: \", r2_in_val)\n",
    "    counter += 1\n"
   ]
  },
  {
   "cell_type": "markdown",
   "metadata": {},
   "source": [
    "### Generate the Submission"
   ]
  },
  {
   "cell_type": "code",
   "execution_count": 20,
   "metadata": {},
   "outputs": [
    {
     "name": "stdout",
     "output_type": "stream",
     "text": [
      "            0         0         0\n",
      "0    0.729835  0.511822  0.636262\n",
      "1    0.875947  0.587527  0.785501\n",
      "2    0.625850  0.701257  0.593265\n",
      "3    0.845082  1.180122  0.807329\n",
      "4    0.701232  0.686398  0.714297\n",
      "..        ...       ...       ...\n",
      "145  0.817357  0.592231  0.731909\n",
      "146  0.544835  0.438415  0.417946\n",
      "147  0.161141  0.725569  0.529290\n",
      "148  0.593401  0.580783  0.887274\n",
      "149  0.832749  0.582688  0.727526\n",
      "\n",
      "[150 rows x 3 columns]\n",
      "       target\n",
      "250  0.625973\n",
      "251  0.749659\n",
      "252  0.640124\n",
      "253  0.944178\n",
      "254  0.700642\n",
      "..        ...\n",
      "395  0.713832\n",
      "396  0.467065\n",
      "397  0.472000\n",
      "398  0.687153\n",
      "399  0.714321\n",
      "\n",
      "[150 rows x 1 columns]\n"
     ]
    }
   ],
   "source": [
    "\n",
    "# write the dataframe to submission.cvs\n",
    "#get the combined result of the data set \n",
    "final_pred = pd.DataFrame(predictions.mean(axis=1))\n",
    "final_pred.index += 250\n",
    "final_pred.columns = ['target']\n",
    "final_pred.to_csv('submission.csv', index_label='id', index=True)   \n",
    "\n",
    "print(predictions.head(150))\n",
    "print(final_pred.head(150))"
   ]
  },
  {
   "cell_type": "markdown",
   "metadata": {},
   "source": [
    "### Visualization"
   ]
  },
  {
   "cell_type": "code",
   "execution_count": null,
   "metadata": {},
   "outputs": [],
   "source": [
    "'''        \n",
    "\n",
    "        #Comparison of Predicted and Actual Values\n",
    "        plt.figure(figsize=(10, 6))\n",
    "        plt.scatter(range(len(Y_in_val)), Y_in_val, color='blue', label='Actual')\n",
    "        plt.scatter(range(len(Y_in_val_pred)), Y_in_val_pred, color='red', label='Predicted', alpha=0.5)\n",
    "        plt.title('Actual vs Predicted Values')\n",
    "        plt.xlabel('Sample Index')\n",
    "        plt.ylabel('Target Value')\n",
    "        plt.legend()\n",
    "        plt.show()\n",
    "\n",
    "        ------------------------------------------------------\n",
    "\n",
    "\n",
    "        #ROC Curve\n",
    "        fpr, tpr, thresholds = roc_curve(Y_in_val, Y_in_val_pred)\n",
    "        roc_auc = auc(fpr, tpr)\n",
    "\n",
    "        plt.figure(figsize=(7, 7))\n",
    "        plt.plot(fpr, tpr, color='darkorange', lw=2, label='ROC curve (area = %0.2f)' % roc_auc)\n",
    "        plt.plot([0, 1], [0, 1], color='navy', lw=2, linestyle='--')\n",
    "        plt.xlim([0.0, 1.0])\n",
    "        plt.ylim([0.0, 1.05])\n",
    "        plt.xlabel('False Positive Rate')\n",
    "        plt.ylabel('True Positive Rate')\n",
    "        plt.title('Receiver Operating Characteristic')\n",
    "        plt.legend(loc=\"lower right\")\n",
    "        plt.show()\n",
    "\n",
    "\n",
    "        ------------------------------------------------------\n",
    "\n",
    "\n",
    "        #feature importance\n",
    "        feature_importance = feature_selector.estimator_.coef_\n",
    "        sorted_idx = np.argsort(np.abs(feature_importance))[::-1]\n",
    "\n",
    "        non_zero_features = sorted_idx[feature_importance[sorted_idx] != 0]\n",
    "        non_zero_importance = feature_importance[non_zero_features]\n",
    "        non_zero_names = X_featured_train[non_zero_features]\n",
    "\n",
    "        plt.figure(figsize=(10, 6))\n",
    "        plt.title(\"Feature Importance\")\n",
    "        plt.bar(range(len(non_zero_importance)), non_zero_importance, align='center')\n",
    "        plt.xticks(range(len(non_zero_importance)), non_zero_names, rotation=90)\n",
    "        plt.show()    \n",
    "\n",
    "        \n",
    "        ------------------------------------------------------\n",
    "\n",
    "        #Confusion Matrix\n",
    "        binary_prediction = np.where(Y_in_val_pred >= 0.5, 1, 0)\n",
    "        cm = confusion_matrix(Y_in_val, binary_prediction)\n",
    "       \n",
    "        plt.figure(figsize=(8, 6))\n",
    "        sns.heatmap(cm, annot=True, fmt='d', cmap='Blues', cbar=False)\n",
    "        plt.title('Confusion Matrix')\n",
    "        plt.xlabel('Predicted Label')\n",
    "        plt.ylabel('True Label')\n",
    "        plt.show()\n",
    "        \n",
    "'''"
   ]
  }
 ],
 "metadata": {
  "kernelspec": {
   "display_name": "base",
   "language": "python",
   "name": "python3"
  },
  "language_info": {
   "codemirror_mode": {
    "name": "ipython",
    "version": 3
   },
   "file_extension": ".py",
   "mimetype": "text/x-python",
   "name": "python",
   "nbconvert_exporter": "python",
   "pygments_lexer": "ipython3",
   "version": "3.11.5"
  }
 },
 "nbformat": 4,
 "nbformat_minor": 2
}
